{
 "cells": [
  {
   "cell_type": "code",
   "execution_count": 5,
   "id": "d19d3c62",
   "metadata": {},
   "outputs": [],
   "source": [
    "import haiku as hk\n",
    "import jax\n",
    "import jax.nn as jnn\n",
    "import jax.numpy as jnp\n",
    "import numpy as np\n",
    "from typing import List, Callable"
   ]
  },
  {
   "cell_type": "code",
   "execution_count": 2,
   "id": "9c9b1edd",
   "metadata": {},
   "outputs": [],
   "source": [
    "class MixtureOfExperts(hk.Module):\n",
    "    def __init__(self, num_experts, k, name=None):\n",
    "        super().__init__(name=name)\n",
    "        self._num_experts = num_experts\n",
    "        self._k = k\n",
    "        \n",
    "    def route(self, x:jnp.ndarray):\n",
    "        logits = hk.Linear(self._num_experts)(x)\n",
    "        top_k_vals, top_k_idxs = jax.lax.top_k(logits, self._k)\n",
    "        top_k_gates = jax.nn.softmax(top_k_vals, axis=-1)\n",
    "        return top_k_gates, top_k_idxs\n",
    "\n",
    "    def map(self, top_k_idxs:jnp.ndarray, x:jnp.ndarray) -> jnp.ndarray:\n",
    "        total_counts, embedding_size = x.shape\n",
    "        expert_idxs = jnp.arange(self._num_experts, dtype=np.int32)\n",
    "        top_k_mask = expert_idxs[:, None, None] == top_k_idxs[None, :, :]\n",
    "        routing_mask = top_k_mask.any(-1)\n",
    "        sharded_x = [None] * self._num_experts\n",
    "        idxs = [None] * self._num_experts\n",
    "        for i in range(self._num_experts):\n",
    "            idxs[i] = source_idx, slot_idx = jnp.where(top_k_mask[i])\n",
    "            sharded_x[i] = x[source_idx]\n",
    "        return idxs, sharded_x\n",
    "    \n",
    "    def apply_experts(self, sharded_y, experts):\n",
    "        return jax.tree_util.tree_map(lambda f,x: f(x), experts, sharded_y)\n",
    "    \n",
    "    def gather(self, in_shape, idxs, sharded_y):\n",
    "        out_buf = jnp.empty((in_shape, self._k, sharded_y[0].shape[-1]),\n",
    "                            dtype=sharded_y[0].dtype)\n",
    "        for i in range(self._num_experts):\n",
    "            out_buf = out_buf.at[idxs[i]].set(sharded_y[i])\n",
    "        return out_buf\n",
    "    \n",
    "    def reduce(self, in_shape, idxs, sharded_y, top_k_gates):\n",
    "        out_buf = jnp.empty((in_shape, sharded_y[0].shape[-1]), dtype=sharded_y[0].dtype)\n",
    "        for i in range(self._num_experts):\n",
    "            source_idx, slot_idx = idxs[i]\n",
    "            out_buf = out_buf.at[source_idx].add(top_k_gates[source_idx, slot_idx][:, None] * sharded_y[i])\n",
    "        return out_buf\n",
    "        \n",
    "def moe(x):\n",
    "    num_experts = 4\n",
    "    experts = [hk.Linear(7) for i in range(num_experts)] \n",
    "    moe = MixtureOfExperts(num_experts, k=2)\n",
    "    top_k_gates, top_k_idxs = moe.route(x)\n",
    "    idxs, sharded_x = moe.map(top_k_idxs, x)\n",
    "    sharded_outs = moe.apply_experts(sharded_x, experts)\n",
    "    return moe.reduce(x.shape[0], idxs, sharded_outs, top_k_gates)\n",
    "\n",
    "forward_moe = hk.transform(moe)"
   ]
  },
  {
   "cell_type": "code",
   "execution_count": 4,
   "id": "bca0d46a",
   "metadata": {
    "scrolled": false
   },
   "outputs": [
    {
     "name": "stderr",
     "output_type": "stream",
     "text": [
      "/home/shawn/.local/lib/python3.10/site-packages/haiku/_src/data_structures.py:144: FutureWarning: jax.tree_flatten is deprecated, and will be removed in a future release. Use jax.tree_util.tree_flatten instead.\n",
      "  leaves, treedef = jax.tree_flatten(tree)\n",
      "/home/shawn/.local/lib/python3.10/site-packages/haiku/_src/data_structures.py:145: FutureWarning: jax.tree_unflatten is deprecated, and will be removed in a future release. Use jax.tree_util.tree_unflatten instead.\n",
      "  return jax.tree_unflatten(treedef, leaves)\n"
     ]
    },
    {
     "ename": "ConcretizationTypeError",
     "evalue": "Abstract tracer value encountered where concrete value is expected: Traced<ShapedArray(int32[])>with<DynamicJaxprTrace(level=0/1)>\nThe size argument of jnp.nonzero must be statically specified to use jnp.nonzero within JAX transformations.\nWhile tracing the function apply_fn at /home/shawn/.local/lib/python3.10/site-packages/haiku/_src/transform.py:119 for jit, this concrete value was not available in Python because it depends on the values of the arguments 'params' and 'kwargs'.\n\nSee https://jax.readthedocs.io/en/latest/errors.html#jax.errors.ConcretizationTypeError",
     "output_type": "error",
     "traceback": [
      "\u001b[0;31m---------------------------------------------------------------------------\u001b[0m",
      "\u001b[0;31mConcretizationTypeError\u001b[0m                   Traceback (most recent call last)",
      "Input \u001b[0;32mIn [4]\u001b[0m, in \u001b[0;36m<module>\u001b[0;34m\u001b[0m\n\u001b[1;32m      5\u001b[0m rng_key \u001b[38;5;241m=\u001b[39m jax\u001b[38;5;241m.\u001b[39mrandom\u001b[38;5;241m.\u001b[39mPRNGKey(\u001b[38;5;241m42\u001b[39m)\n\u001b[1;32m      6\u001b[0m params \u001b[38;5;241m=\u001b[39m forward_moe\u001b[38;5;241m.\u001b[39minit(rng\u001b[38;5;241m=\u001b[39mrng_key, x\u001b[38;5;241m=\u001b[39mx)\n\u001b[0;32m----> 7\u001b[0m out_buf \u001b[38;5;241m=\u001b[39m \u001b[43mjax\u001b[49m\u001b[38;5;241;43m.\u001b[39;49m\u001b[43mjit\u001b[49m\u001b[43m(\u001b[49m\u001b[43mforward_moe\u001b[49m\u001b[38;5;241;43m.\u001b[39;49m\u001b[43mapply\u001b[49m\u001b[43m)\u001b[49m\u001b[43m(\u001b[49m\u001b[43mparams\u001b[49m\u001b[38;5;241;43m=\u001b[39;49m\u001b[43mparams\u001b[49m\u001b[43m,\u001b[49m\u001b[43m \u001b[49m\u001b[43mx\u001b[49m\u001b[38;5;241;43m=\u001b[39;49m\u001b[43mx\u001b[49m\u001b[43m,\u001b[49m\u001b[43m \u001b[49m\u001b[43mrng\u001b[49m\u001b[38;5;241;43m=\u001b[39;49m\u001b[43mrng_key\u001b[49m\u001b[43m)\u001b[49m\n\u001b[1;32m      8\u001b[0m pprint(out_buf)\n\u001b[1;32m      9\u001b[0m \u001b[38;5;28mprint\u001b[39m(out_buf\u001b[38;5;241m.\u001b[39mshape)\n",
      "    \u001b[0;31m[... skipping hidden 14 frame]\u001b[0m\n",
      "File \u001b[0;32m~/.local/lib/python3.10/site-packages/haiku/_src/transform.py:127\u001b[0m, in \u001b[0;36mwithout_state.<locals>.apply_fn\u001b[0;34m(params, *args, **kwargs)\u001b[0m\n\u001b[1;32m    120\u001b[0m \u001b[38;5;28;01mif\u001b[39;00m \u001b[38;5;124m\"\u001b[39m\u001b[38;5;124mstate\u001b[39m\u001b[38;5;124m\"\u001b[39m \u001b[38;5;129;01min\u001b[39;00m kwargs:\n\u001b[1;32m    121\u001b[0m   \u001b[38;5;28;01mraise\u001b[39;00m \u001b[38;5;167;01mTypeError\u001b[39;00m(\n\u001b[1;32m    122\u001b[0m       \u001b[38;5;124m\"\u001b[39m\u001b[38;5;124mHaiku transform adds three arguments (params, state, rng) to apply. \u001b[39m\u001b[38;5;124m\"\u001b[39m\n\u001b[1;32m    123\u001b[0m       \u001b[38;5;124m\"\u001b[39m\u001b[38;5;124mIf the functions you are transforming use the same names you must \u001b[39m\u001b[38;5;124m\"\u001b[39m\n\u001b[1;32m    124\u001b[0m       \u001b[38;5;124m\"\u001b[39m\u001b[38;5;124mpass them positionally (e.g. `f.apply(.., my_state)` and not by \u001b[39m\u001b[38;5;124m\"\u001b[39m\n\u001b[1;32m    125\u001b[0m       \u001b[38;5;124m\"\u001b[39m\u001b[38;5;124mname (e.g. `f.apply(.., state=my_state)`)\u001b[39m\u001b[38;5;124m\"\u001b[39m)\n\u001b[0;32m--> 127\u001b[0m out, state \u001b[38;5;241m=\u001b[39m \u001b[43mf\u001b[49m\u001b[38;5;241;43m.\u001b[39;49m\u001b[43mapply\u001b[49m\u001b[43m(\u001b[49m\u001b[43mparams\u001b[49m\u001b[43m,\u001b[49m\u001b[43m \u001b[49m\u001b[43m{\u001b[49m\u001b[43m}\u001b[49m\u001b[43m,\u001b[49m\u001b[43m \u001b[49m\u001b[38;5;241;43m*\u001b[39;49m\u001b[43margs\u001b[49m\u001b[43m,\u001b[49m\u001b[43m \u001b[49m\u001b[38;5;241;43m*\u001b[39;49m\u001b[38;5;241;43m*\u001b[39;49m\u001b[43mkwargs\u001b[49m\u001b[43m)\u001b[49m\n\u001b[1;32m    128\u001b[0m \u001b[38;5;28;01mif\u001b[39;00m state:\n\u001b[1;32m    129\u001b[0m   \u001b[38;5;28;01mraise\u001b[39;00m \u001b[38;5;167;01mValueError\u001b[39;00m(\u001b[38;5;124m\"\u001b[39m\u001b[38;5;124mIf your transformed function uses `hk.\u001b[39m\u001b[38;5;124m{\u001b[39m\u001b[38;5;124mget,set}_state` \u001b[39m\u001b[38;5;124m\"\u001b[39m\n\u001b[1;32m    130\u001b[0m                    \u001b[38;5;124m\"\u001b[39m\u001b[38;5;124mthen use `hk.transform_with_state`.\u001b[39m\u001b[38;5;124m\"\u001b[39m)\n",
      "File \u001b[0;32m~/.local/lib/python3.10/site-packages/haiku/_src/transform.py:354\u001b[0m, in \u001b[0;36mtransform_with_state.<locals>.apply_fn\u001b[0;34m(params, state, rng, *args, **kwargs)\u001b[0m\n\u001b[1;32m    352\u001b[0m \u001b[38;5;28;01mwith\u001b[39;00m base\u001b[38;5;241m.\u001b[39mnew_context(params\u001b[38;5;241m=\u001b[39mparams, state\u001b[38;5;241m=\u001b[39mstate, rng\u001b[38;5;241m=\u001b[39mrng) \u001b[38;5;28;01mas\u001b[39;00m ctx:\n\u001b[1;32m    353\u001b[0m   \u001b[38;5;28;01mtry\u001b[39;00m:\n\u001b[0;32m--> 354\u001b[0m     out \u001b[38;5;241m=\u001b[39m \u001b[43mf\u001b[49m\u001b[43m(\u001b[49m\u001b[38;5;241;43m*\u001b[39;49m\u001b[43margs\u001b[49m\u001b[43m,\u001b[49m\u001b[43m \u001b[49m\u001b[38;5;241;43m*\u001b[39;49m\u001b[38;5;241;43m*\u001b[39;49m\u001b[43mkwargs\u001b[49m\u001b[43m)\u001b[49m\n\u001b[1;32m    355\u001b[0m   \u001b[38;5;28;01mexcept\u001b[39;00m jax\u001b[38;5;241m.\u001b[39merrors\u001b[38;5;241m.\u001b[39mUnexpectedTracerError \u001b[38;5;28;01mas\u001b[39;00m e:\n\u001b[1;32m    356\u001b[0m     \u001b[38;5;28;01mraise\u001b[39;00m jax\u001b[38;5;241m.\u001b[39merrors\u001b[38;5;241m.\u001b[39mUnexpectedTracerError(unexpected_tracer_hint) \u001b[38;5;28;01mfrom\u001b[39;00m \u001b[38;5;21;01me\u001b[39;00m\n",
      "Input \u001b[0;32mIn [2]\u001b[0m, in \u001b[0;36mmoe\u001b[0;34m(x)\u001b[0m\n\u001b[1;32m     45\u001b[0m moe \u001b[38;5;241m=\u001b[39m MixtureOfExperts(num_experts, k\u001b[38;5;241m=\u001b[39m\u001b[38;5;241m2\u001b[39m)\n\u001b[1;32m     46\u001b[0m top_k_gates, top_k_idxs \u001b[38;5;241m=\u001b[39m moe\u001b[38;5;241m.\u001b[39mroute(x)\n\u001b[0;32m---> 47\u001b[0m idxs, sharded_x \u001b[38;5;241m=\u001b[39m \u001b[43mmoe\u001b[49m\u001b[38;5;241;43m.\u001b[39;49m\u001b[43mmap\u001b[49m\u001b[43m(\u001b[49m\u001b[43mtop_k_idxs\u001b[49m\u001b[43m,\u001b[49m\u001b[43m \u001b[49m\u001b[43mx\u001b[49m\u001b[43m)\u001b[49m\n\u001b[1;32m     48\u001b[0m sharded_outs \u001b[38;5;241m=\u001b[39m moe\u001b[38;5;241m.\u001b[39mapply_experts(sharded_x, experts)\n\u001b[1;32m     49\u001b[0m \u001b[38;5;28;01mreturn\u001b[39;00m moe\u001b[38;5;241m.\u001b[39mreduce(x\u001b[38;5;241m.\u001b[39mshape[\u001b[38;5;241m0\u001b[39m], idxs, sharded_outs, top_k_gates)\n",
      "File \u001b[0;32m~/.local/lib/python3.10/site-packages/haiku/_src/module.py:421\u001b[0m, in \u001b[0;36mwrap_method.<locals>.wrapped\u001b[0;34m(self, *args, **kwargs)\u001b[0m\n\u001b[1;32m    418\u001b[0m     local_module_name \u001b[38;5;241m=\u001b[39m module_name\u001b[38;5;241m.\u001b[39msplit(\u001b[38;5;124m\"\u001b[39m\u001b[38;5;124m/\u001b[39m\u001b[38;5;124m\"\u001b[39m)[\u001b[38;5;241m-\u001b[39m\u001b[38;5;241m1\u001b[39m]\n\u001b[1;32m    419\u001b[0m     f \u001b[38;5;241m=\u001b[39m stateful\u001b[38;5;241m.\u001b[39mnamed_call(f, name\u001b[38;5;241m=\u001b[39mlocal_module_name)\n\u001b[0;32m--> 421\u001b[0m out \u001b[38;5;241m=\u001b[39m \u001b[43mf\u001b[49m\u001b[43m(\u001b[49m\u001b[38;5;241;43m*\u001b[39;49m\u001b[43margs\u001b[49m\u001b[43m,\u001b[49m\u001b[43m \u001b[49m\u001b[38;5;241;43m*\u001b[39;49m\u001b[38;5;241;43m*\u001b[39;49m\u001b[43mkwargs\u001b[49m\u001b[43m)\u001b[49m\n\u001b[1;32m    423\u001b[0m \u001b[38;5;66;03m# Module names are set in the constructor. If `f` is the constructor then\u001b[39;00m\n\u001b[1;32m    424\u001b[0m \u001b[38;5;66;03m# its name will only be set **after** `f` has run. For methods other\u001b[39;00m\n\u001b[1;32m    425\u001b[0m \u001b[38;5;66;03m# than `__init__` we need the name before running in order to wrap their\u001b[39;00m\n\u001b[1;32m    426\u001b[0m \u001b[38;5;66;03m# execution with `named_call`.\u001b[39;00m\n\u001b[1;32m    427\u001b[0m \u001b[38;5;28;01mif\u001b[39;00m module_name \u001b[38;5;129;01mis\u001b[39;00m \u001b[38;5;28;01mNone\u001b[39;00m:\n",
      "File \u001b[0;32m/usr/lib/python3.10/contextlib.py:79\u001b[0m, in \u001b[0;36mContextDecorator.__call__.<locals>.inner\u001b[0;34m(*args, **kwds)\u001b[0m\n\u001b[1;32m     76\u001b[0m \u001b[38;5;129m@wraps\u001b[39m(func)\n\u001b[1;32m     77\u001b[0m \u001b[38;5;28;01mdef\u001b[39;00m \u001b[38;5;21minner\u001b[39m(\u001b[38;5;241m*\u001b[39margs, \u001b[38;5;241m*\u001b[39m\u001b[38;5;241m*\u001b[39mkwds):\n\u001b[1;32m     78\u001b[0m     \u001b[38;5;28;01mwith\u001b[39;00m \u001b[38;5;28mself\u001b[39m\u001b[38;5;241m.\u001b[39m_recreate_cm():\n\u001b[0;32m---> 79\u001b[0m         \u001b[38;5;28;01mreturn\u001b[39;00m \u001b[43mfunc\u001b[49m\u001b[43m(\u001b[49m\u001b[38;5;241;43m*\u001b[39;49m\u001b[43margs\u001b[49m\u001b[43m,\u001b[49m\u001b[43m \u001b[49m\u001b[38;5;241;43m*\u001b[39;49m\u001b[38;5;241;43m*\u001b[39;49m\u001b[43mkwds\u001b[49m\u001b[43m)\u001b[49m\n",
      "File \u001b[0;32m/usr/lib/python3.10/contextlib.py:79\u001b[0m, in \u001b[0;36mContextDecorator.__call__.<locals>.inner\u001b[0;34m(*args, **kwds)\u001b[0m\n\u001b[1;32m     76\u001b[0m \u001b[38;5;129m@wraps\u001b[39m(func)\n\u001b[1;32m     77\u001b[0m \u001b[38;5;28;01mdef\u001b[39;00m \u001b[38;5;21minner\u001b[39m(\u001b[38;5;241m*\u001b[39margs, \u001b[38;5;241m*\u001b[39m\u001b[38;5;241m*\u001b[39mkwds):\n\u001b[1;32m     78\u001b[0m     \u001b[38;5;28;01mwith\u001b[39;00m \u001b[38;5;28mself\u001b[39m\u001b[38;5;241m.\u001b[39m_recreate_cm():\n\u001b[0;32m---> 79\u001b[0m         \u001b[38;5;28;01mreturn\u001b[39;00m \u001b[43mfunc\u001b[49m\u001b[43m(\u001b[49m\u001b[38;5;241;43m*\u001b[39;49m\u001b[43margs\u001b[49m\u001b[43m,\u001b[49m\u001b[43m \u001b[49m\u001b[38;5;241;43m*\u001b[39;49m\u001b[38;5;241;43m*\u001b[39;49m\u001b[43mkwds\u001b[49m\u001b[43m)\u001b[49m\n",
      "File \u001b[0;32m~/.local/lib/python3.10/site-packages/haiku/_src/module.py:271\u001b[0m, in \u001b[0;36mrun_interceptors\u001b[0;34m(bound_method, method_name, self, *args, **kwargs)\u001b[0m\n\u001b[1;32m    269\u001b[0m \u001b[38;5;124;03m\"\"\"Runs any method interceptors or the original method.\"\"\"\u001b[39;00m\n\u001b[1;32m    270\u001b[0m \u001b[38;5;28;01mif\u001b[39;00m \u001b[38;5;129;01mnot\u001b[39;00m interceptor_stack:\n\u001b[0;32m--> 271\u001b[0m   \u001b[38;5;28;01mreturn\u001b[39;00m \u001b[43mbound_method\u001b[49m\u001b[43m(\u001b[49m\u001b[38;5;241;43m*\u001b[39;49m\u001b[43margs\u001b[49m\u001b[43m,\u001b[49m\u001b[43m \u001b[49m\u001b[38;5;241;43m*\u001b[39;49m\u001b[38;5;241;43m*\u001b[39;49m\u001b[43mkwargs\u001b[49m\u001b[43m)\u001b[49m\n\u001b[1;32m    273\u001b[0m ctx \u001b[38;5;241m=\u001b[39m MethodContext(module\u001b[38;5;241m=\u001b[39m\u001b[38;5;28mself\u001b[39m,\n\u001b[1;32m    274\u001b[0m                     method_name\u001b[38;5;241m=\u001b[39mmethod_name,\n\u001b[1;32m    275\u001b[0m                     orig_method\u001b[38;5;241m=\u001b[39mbound_method)\n\u001b[1;32m    276\u001b[0m interceptor_stack_copy \u001b[38;5;241m=\u001b[39m interceptor_stack\u001b[38;5;241m.\u001b[39mclone()\n",
      "Input \u001b[0;32mIn [2]\u001b[0m, in \u001b[0;36mMixtureOfExperts.map\u001b[0;34m(self, top_k_idxs, x)\u001b[0m\n\u001b[1;32m     19\u001b[0m idxs \u001b[38;5;241m=\u001b[39m [\u001b[38;5;28;01mNone\u001b[39;00m] \u001b[38;5;241m*\u001b[39m \u001b[38;5;28mself\u001b[39m\u001b[38;5;241m.\u001b[39m_num_experts\n\u001b[1;32m     20\u001b[0m \u001b[38;5;28;01mfor\u001b[39;00m i \u001b[38;5;129;01min\u001b[39;00m \u001b[38;5;28mrange\u001b[39m(\u001b[38;5;28mself\u001b[39m\u001b[38;5;241m.\u001b[39m_num_experts):\n\u001b[0;32m---> 21\u001b[0m     idxs[i] \u001b[38;5;241m=\u001b[39m source_idx, slot_idx \u001b[38;5;241m=\u001b[39m \u001b[43mjnp\u001b[49m\u001b[38;5;241;43m.\u001b[39;49m\u001b[43mwhere\u001b[49m\u001b[43m(\u001b[49m\u001b[43mtop_k_mask\u001b[49m\u001b[43m[\u001b[49m\u001b[43mi\u001b[49m\u001b[43m]\u001b[49m\u001b[43m)\u001b[49m\n\u001b[1;32m     22\u001b[0m     sharded_x[i] \u001b[38;5;241m=\u001b[39m x[source_idx]\n\u001b[1;32m     23\u001b[0m \u001b[38;5;28;01mreturn\u001b[39;00m idxs, sharded_x\n",
      "File \u001b[0;32m~/.local/lib/python3.10/site-packages/jax/_src/numpy/lax_numpy.py:1011\u001b[0m, in \u001b[0;36mwhere\u001b[0;34m(condition, x, y, size, fill_value)\u001b[0m\n\u001b[1;32m   1009\u001b[0m \u001b[38;5;28;01mif\u001b[39;00m x \u001b[38;5;129;01mis\u001b[39;00m \u001b[38;5;28;01mNone\u001b[39;00m \u001b[38;5;129;01mand\u001b[39;00m y \u001b[38;5;129;01mis\u001b[39;00m \u001b[38;5;28;01mNone\u001b[39;00m:\n\u001b[1;32m   1010\u001b[0m   _check_arraylike(\u001b[38;5;124m\"\u001b[39m\u001b[38;5;124mwhere\u001b[39m\u001b[38;5;124m\"\u001b[39m, condition)\n\u001b[0;32m-> 1011\u001b[0m   \u001b[38;5;28;01mreturn\u001b[39;00m \u001b[43mnonzero\u001b[49m\u001b[43m(\u001b[49m\u001b[43mcondition\u001b[49m\u001b[43m,\u001b[49m\u001b[43m \u001b[49m\u001b[43msize\u001b[49m\u001b[38;5;241;43m=\u001b[39;49m\u001b[43msize\u001b[49m\u001b[43m,\u001b[49m\u001b[43m \u001b[49m\u001b[43mfill_value\u001b[49m\u001b[38;5;241;43m=\u001b[39;49m\u001b[43mfill_value\u001b[49m\u001b[43m)\u001b[49m\n\u001b[1;32m   1012\u001b[0m \u001b[38;5;28;01melse\u001b[39;00m:\n\u001b[1;32m   1013\u001b[0m   _check_arraylike(\u001b[38;5;124m\"\u001b[39m\u001b[38;5;124mwhere\u001b[39m\u001b[38;5;124m\"\u001b[39m, condition, x, y)\n",
      "File \u001b[0;32m~/.local/lib/python3.10/site-packages/jax/_src/numpy/lax_numpy.py:1247\u001b[0m, in \u001b[0;36mnonzero\u001b[0;34m(a, size, fill_value)\u001b[0m\n\u001b[1;32m   1245\u001b[0m \u001b[38;5;28;01mif\u001b[39;00m size \u001b[38;5;129;01mis\u001b[39;00m \u001b[38;5;28;01mNone\u001b[39;00m:\n\u001b[1;32m   1246\u001b[0m   size \u001b[38;5;241m=\u001b[39m mask\u001b[38;5;241m.\u001b[39msum()\n\u001b[0;32m-> 1247\u001b[0m size \u001b[38;5;241m=\u001b[39m \u001b[43mcore\u001b[49m\u001b[38;5;241;43m.\u001b[39;49m\u001b[43mconcrete_or_error\u001b[49m\u001b[43m(\u001b[49m\u001b[43moperator\u001b[49m\u001b[38;5;241;43m.\u001b[39;49m\u001b[43mindex\u001b[49m\u001b[43m,\u001b[49m\u001b[43m \u001b[49m\u001b[43msize\u001b[49m\u001b[43m,\u001b[49m\n\u001b[1;32m   1248\u001b[0m \u001b[43m  \u001b[49m\u001b[38;5;124;43m\"\u001b[39;49m\u001b[38;5;124;43mThe size argument of jnp.nonzero must be statically specified \u001b[39;49m\u001b[38;5;124;43m\"\u001b[39;49m\n\u001b[1;32m   1249\u001b[0m \u001b[43m  \u001b[49m\u001b[38;5;124;43m\"\u001b[39;49m\u001b[38;5;124;43mto use jnp.nonzero within JAX transformations.\u001b[39;49m\u001b[38;5;124;43m\"\u001b[39;49m\u001b[43m)\u001b[49m\n\u001b[1;32m   1250\u001b[0m \u001b[38;5;28;01mif\u001b[39;00m a\u001b[38;5;241m.\u001b[39msize \u001b[38;5;241m==\u001b[39m \u001b[38;5;241m0\u001b[39m \u001b[38;5;129;01mor\u001b[39;00m size \u001b[38;5;241m==\u001b[39m \u001b[38;5;241m0\u001b[39m:\n\u001b[1;32m   1251\u001b[0m   \u001b[38;5;28;01mreturn\u001b[39;00m \u001b[38;5;28mtuple\u001b[39m(zeros(size, \u001b[38;5;28mint\u001b[39m) \u001b[38;5;28;01mfor\u001b[39;00m dim \u001b[38;5;129;01min\u001b[39;00m a\u001b[38;5;241m.\u001b[39mshape)\n",
      "File \u001b[0;32m~/.local/lib/python3.10/site-packages/jax/core.py:1185\u001b[0m, in \u001b[0;36mconcrete_or_error\u001b[0;34m(force, val, context)\u001b[0m\n\u001b[1;32m   1183\u001b[0m     \u001b[38;5;28;01mreturn\u001b[39;00m force(val\u001b[38;5;241m.\u001b[39maval\u001b[38;5;241m.\u001b[39mval)\n\u001b[1;32m   1184\u001b[0m   \u001b[38;5;28;01melse\u001b[39;00m:\n\u001b[0;32m-> 1185\u001b[0m     \u001b[38;5;28;01mraise\u001b[39;00m ConcretizationTypeError(val, context)\n\u001b[1;32m   1186\u001b[0m \u001b[38;5;28;01melse\u001b[39;00m:\n\u001b[1;32m   1187\u001b[0m   \u001b[38;5;28;01mreturn\u001b[39;00m force(val)\n",
      "\u001b[0;31mConcretizationTypeError\u001b[0m: Abstract tracer value encountered where concrete value is expected: Traced<ShapedArray(int32[])>with<DynamicJaxprTrace(level=0/1)>\nThe size argument of jnp.nonzero must be statically specified to use jnp.nonzero within JAX transformations.\nWhile tracing the function apply_fn at /home/shawn/.local/lib/python3.10/site-packages/haiku/_src/transform.py:119 for jit, this concrete value was not available in Python because it depends on the values of the arguments 'params' and 'kwargs'.\n\nSee https://jax.readthedocs.io/en/latest/errors.html#jax.errors.ConcretizationTypeError"
     ]
    }
   ],
   "source": [
    "from pprint import pprint\n",
    "key = jax.random.PRNGKey(0)\n",
    "x = jax.random.normal(key, (15, 20))\n",
    "# print(x)\n",
    "rng_key = jax.random.PRNGKey(42)\n",
    "params = forward_moe.init(rng=rng_key, x=x)\n",
    "out_buf = jax.jit(forward_moe.apply)(params=params, x=x, rng=rng_key)\n",
    "pprint(out_buf)\n",
    "print(out_buf.shape)"
   ]
  },
  {
   "cell_type": "code",
   "execution_count": 195,
   "id": "c54fc39f",
   "metadata": {},
   "outputs": [],
   "source": [
    "class MixtureOfExperts(hk.Module):\n",
    "    def __init__(self, num_experts, k, name=None):\n",
    "        super().__init__(name=name)\n",
    "        self._num_experts = num_experts\n",
    "        self._k = k\n",
    "        \n",
    "    def route(self, x:jnp.ndarray):\n",
    "        logits = hk.Linear(self._num_experts)(x)\n",
    "        top_k_vals, top_k_idxs = jax.lax.top_k(logits, self._k)\n",
    "        top_k_gates = jax.nn.softmax(top_k_vals, axis=-1)\n",
    "        return top_k_gates, top_k_idxs\n",
    "\n",
    "    def distribute_map(self, x:jnp.ndarray, top_k_idxs:jnp.ndarray, experts:List[Callable]) -> jnp.ndarray:\n",
    "        def expert_map_i(x_i, top_k_idxs_i):\n",
    "            def expert_map_ij(top_k_idxs_ij):\n",
    "                if hk.running_init():\n",
    "                    for f in experts:\n",
    "                        out = f(x_i)\n",
    "                else:\n",
    "                    out = hk.switch(top_k_idxs_ij, experts, x_i)\n",
    "                return out\n",
    "            return hk.vmap(expert_map_ij, split_rng=(not hk.running_init()))(top_k_idxs_i)\n",
    "        return hk.vmap(expert_map_i, split_rng=(not hk.running_init()))(x, top_k_idxs)\n",
    "    \n",
    "    def map(self, x:jnp.ndarray, top_k_idxs:jnp.ndarray, experts:List[Callable]) -> jnp.ndarray:\n",
    "        def expert_map_i(x_i, top_k_idxs_i):\n",
    "            def expert_map_ij(x_ij, top_k_idxs_ij):\n",
    "                if hk.running_init():\n",
    "                    for f in experts:\n",
    "                        out = f(x_ij)\n",
    "                else:\n",
    "                    out = hk.switch(top_k_idxs_ij, experts, x_ij)\n",
    "                return out\n",
    "            return hk.vmap(expert_map_ij, split_rng=(not hk.running_init()))(x_i, top_k_idxs_i)\n",
    "        return hk.vmap(expert_map_i, split_rng=(not hk.running_init()))(x, top_k_idxs)\n",
    "    \n",
    "    def weighted_reduce(self, x, top_k_gates):\n",
    "        return jnp.einsum('...kd,...k->...d', x, top_k_gates)\n",
    "\n",
    "def moe(x):\n",
    "    num_experts = 4\n",
    "    experts_query = [hk.Linear(7) for i in range(num_experts)] \n",
    "    moe = MixtureOfExperts(num_experts, k=2)\n",
    "    top_k_gates, top_k_idxs = moe.route(x)\n",
    "    q = moe.distribute_map(x, top_k_idxs, experts_query)\n",
    "    mid_out = moe.map(q, top_k_idxs, [hk.Linear(8) for i in range(num_experts)] )\n",
    "    out = moe.weighted_reduce(mid_out, top_k_gates)\n",
    "    return out\n",
    "\n",
    "forward_moe = hk.transform(moe)"
   ]
  },
  {
   "cell_type": "code",
   "execution_count": 206,
   "id": "5b820b8d",
   "metadata": {
    "scrolled": false
   },
   "outputs": [
    {
     "name": "stdout",
     "output_type": "stream",
     "text": [
      "(2000, 2, 7)\n",
      "(2000, 8)\n",
      "(2000, 8)\n"
     ]
    }
   ],
   "source": [
    "from pprint import pprint\n",
    "\n",
    "key = jax.random.PRNGKey(0)\n",
    "x = jax.random.normal(key, (2000, 20))\n",
    "# print(x)\n",
    "rng_key = jax.random.PRNGKey(42)\n",
    "params = forward_moe.init(rng=rng_key, x=x)\n",
    "fn_apply = jax.jit(forward_moe.apply)\n",
    "out_buf = fn_apply(params=params, x=x, rng=rng_key)\n",
    "print(out_buf.shape)\n",
    "out_buf = fn_apply(params=params, x=x, rng=rng_key)\n",
    "print(out_buf.shape)"
   ]
  }
 ],
 "metadata": {
  "kernelspec": {
   "display_name": "Python 3 (ipykernel)",
   "language": "python",
   "name": "python3"
  },
  "language_info": {
   "codemirror_mode": {
    "name": "ipython",
    "version": 3
   },
   "file_extension": ".py",
   "mimetype": "text/x-python",
   "name": "python",
   "nbconvert_exporter": "python",
   "pygments_lexer": "ipython3",
   "version": "3.10.5"
  }
 },
 "nbformat": 4,
 "nbformat_minor": 5
}
