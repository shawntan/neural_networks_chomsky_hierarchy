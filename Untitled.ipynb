{
 "cells": [
  {
   "cell_type": "code",
   "execution_count": 1,
   "id": "d19d3c62",
   "metadata": {},
   "outputs": [
    {
     "name": "stderr",
     "output_type": "stream",
     "text": [
      "/home/shawn/.local/lib/python3.10/site-packages/haiku/_src/data_structures.py:37: FutureWarning: jax.tree_structure is deprecated, and will be removed in a future release. Use jax.tree_util.tree_structure instead.\n",
      "  PyTreeDef = type(jax.tree_structure(None))\n"
     ]
    }
   ],
   "source": [
    "import haiku as hk\n",
    "import jax\n",
    "import jax.nn as jnn\n",
    "import jax.numpy as jnp\n",
    "import numpy as np"
   ]
  },
  {
   "cell_type": "code",
   "execution_count": 31,
   "id": "9c9b1edd",
   "metadata": {},
   "outputs": [],
   "source": [
    "class MixtureOfExperts(hk.Module):\n",
    "    def __init__(self, num_experts, k, name=None):\n",
    "        super().__init__(name=name)\n",
    "        self._num_experts = num_experts\n",
    "        self._k = k\n",
    "        \n",
    "    def route(self, x:jnp.ndarray):\n",
    "        logits = hk.Linear(self._num_experts)(x)\n",
    "        top_k_vals, top_k_idxs = jax.lax.top_k(logits, self._k)\n",
    "        top_k_gates = jax.nn.softmax(top_k_vals, axis=-1)\n",
    "        return top_k_gates, top_k_idxs\n",
    "\n",
    "    def map(self, top_k_idxs:jnp.ndarray, x:jnp.ndarray) -> jnp.ndarray:\n",
    "        total_counts, embedding_size = x.shape\n",
    "        expert_idxs = jnp.arange(self._num_experts, dtype=np.int32)\n",
    "        top_k_mask = expert_idxs[:, None, None] == top_k_idxs[None, :, :]\n",
    "        routing_mask = top_k_mask.any(-1)\n",
    "        sharded_x = [None] * self._num_experts\n",
    "        idxs = [None] * self._num_experts\n",
    "        for i in range(self._num_experts):\n",
    "            idxs[i] = source_idx, slot_idx = jnp.where(top_k_mask[i])\n",
    "            sharded_x[i] = x[source_idx]\n",
    "        return idxs, sharded_x\n",
    "    \n",
    "    def apply_experts(self, sharded_y, experts):\n",
    "        return jax.tree_util.tree_map(lambda f,x: f(x), experts, sharded_y)\n",
    "    \n",
    "    def gather(self, in_shape, idxs, sharded_y):\n",
    "        out_buf = jnp.empty((in_shape, self._k, sharded_y[0].shape[-1]),\n",
    "                            dtype=sharded_y[0].dtype)\n",
    "        for i in range(self._num_experts):\n",
    "            out_buf = out_buf.at[idxs[i]].set(sharded_y[i])\n",
    "        return out_buf\n",
    "    \n",
    "    def reduce(self, in_shape, idxs, sharded_y, top_k_gates):\n",
    "        out_buf = jnp.empty((in_shape, sharded_y[0].shape[-1]), dtype=sharded_y[0].dtype)\n",
    "        for i in range(self._num_experts):\n",
    "            source_idx, slot_idx = idxs[i]\n",
    "            out_buf = out_buf.at[source_idx].add(top_k_gates[source_idx, slot_idx][:, None] * sharded_y[i])\n",
    "        return out_buf\n",
    "        \n",
    "def moe(x):\n",
    "    num_experts = 4\n",
    "    experts = [hk.Linear(7) for i in range(num_experts)] \n",
    "    moe = MixtureOfExperts(num_experts, k=2)\n",
    "    top_k_gates, top_k_idxs = moe.route(x)\n",
    "    idxs, sharded_x = moe.map(top_k_idxs, x)\n",
    "    sharded_outs = moe.apply_experts(sharded_x, experts)\n",
    "    return moe.reduce(x.shape[0], idxs, sharded_outs, top_k_gates)\n",
    "\n",
    "forward_moe = hk.transform(moe)"
   ]
  },
  {
   "cell_type": "code",
   "execution_count": 32,
   "id": "bca0d46a",
   "metadata": {
    "scrolled": false
   },
   "outputs": [
    {
     "name": "stdout",
     "output_type": "stream",
     "text": [
      "DeviceArray([[ 1.23953128e+00, -3.22048664e-02,  1.61771923e-01,\n",
      "              -1.40354782e-03,  1.21511295e-01, -1.81599051e-01,\n",
      "              -6.96900785e-02],\n",
      "             [ 5.48718631e-01,  1.28376633e-01, -5.39104223e-01,\n",
      "              -6.70641184e-01,  1.09051979e+00, -1.28412640e+00,\n",
      "              -1.14772761e+00],\n",
      "             [ 8.41994166e-01, -1.02324653e+00,  3.11477125e-01,\n",
      "              -4.01870668e-01, -1.49021864e-01,  5.34370542e-01,\n",
      "               3.68867695e-01],\n",
      "             [ 6.75134182e-01, -5.36827803e-01, -5.43348968e-01,\n",
      "               3.53505313e-01,  3.08738649e-01, -6.90067232e-01,\n",
      "              -6.90422177e-01],\n",
      "             [-2.37773836e-01, -6.79171264e-01,  1.47294909e-01,\n",
      "               7.21722841e-04,  5.62279522e-01,  3.10913086e-01,\n",
      "              -6.09521687e-01],\n",
      "             [ 2.00517774e-01, -9.62487936e-01,  1.20790944e-01,\n",
      "               4.39302444e-01,  2.74160624e-01,  3.32039446e-01,\n",
      "              -2.17610329e-01],\n",
      "             [ 2.46761292e-01, -3.94735873e-01, -1.00223219e+00,\n",
      "               8.05325866e-01,  1.76950142e-01, -1.74238920e+00,\n",
      "              -1.81081802e-01],\n",
      "             [ 2.81930417e-01, -8.22262943e-01, -1.93649143e-01,\n",
      "              -1.55480966e-01,  2.20990956e-01,  4.79027152e-01,\n",
      "              -3.12372744e-01],\n",
      "             [-3.37726057e-01,  3.82300794e-01,  4.84502047e-01,\n",
      "              -1.78032964e-01, -1.06630945e+00, -2.03762531e-01,\n",
      "              -4.88711745e-01],\n",
      "             [ 9.99040127e-01, -9.91991639e-01, -1.06441602e-01,\n",
      "               6.85126662e-01, -1.53387785e-01, -8.32056284e-01,\n",
      "              -6.10866696e-02],\n",
      "             [-9.48539078e-02,  1.56058781e-02,  6.83925033e-01,\n",
      "              -9.91238356e-02, -1.02709389e+00, -2.58236736e-01,\n",
      "              -1.83042869e-01],\n",
      "             [ 4.59742785e-01,  1.53624368e+00,  2.96272397e-01,\n",
      "              -3.21008056e-01,  3.47220123e-01,  1.12247169e-01,\n",
      "               3.72126102e-02],\n",
      "             [-8.64369199e-02, -6.38342917e-01, -2.38766253e-01,\n",
      "              -1.21185899e+00, -1.04379021e-02, -1.28367412e+00,\n",
      "               3.80297124e-01],\n",
      "             [ 7.23379850e-01, -3.56999114e-02, -9.94403481e-01,\n",
      "              -6.06027961e-01, -2.90681124e-01,  1.63778841e-01,\n",
      "               4.01369512e-01],\n",
      "             [ 1.53161502e+00, -9.30834293e-01,  8.63850236e-01,\n",
      "              -4.31509942e-01, -6.92221522e-03, -1.23158902e-01,\n",
      "               7.90818036e-01]], dtype=float32)\n",
      "(15, 7)\n"
     ]
    }
   ],
   "source": [
    "from pprint import pprint\n",
    "key = jax.random.PRNGKey(0)\n",
    "x = jax.random.normal(key, (15, 20))\n",
    "# print(x)\n",
    "rng_key = jax.random.PRNGKey(42)\n",
    "params = forward_moe.init(rng=rng_key, x=x)\n",
    "out_buf = forward_moe.apply(params=params, x=x, rng=rng_key)\n",
    "pprint(out_buf)\n",
    "print(out_buf.shape)"
   ]
  },
  {
   "cell_type": "code",
   "execution_count": null,
   "id": "5b820b8d",
   "metadata": {},
   "outputs": [],
   "source": []
  }
 ],
 "metadata": {
  "kernelspec": {
   "display_name": "Python 3 (ipykernel)",
   "language": "python",
   "name": "python3"
  },
  "language_info": {
   "codemirror_mode": {
    "name": "ipython",
    "version": 3
   },
   "file_extension": ".py",
   "mimetype": "text/x-python",
   "name": "python",
   "nbconvert_exporter": "python",
   "pygments_lexer": "ipython3",
   "version": "3.10.5"
  }
 },
 "nbformat": 4,
 "nbformat_minor": 5
}
