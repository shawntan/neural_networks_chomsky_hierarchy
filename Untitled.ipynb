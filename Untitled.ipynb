{
 "cells": [
  {
   "cell_type": "code",
   "execution_count": 3,
   "id": "d19d3c62",
   "metadata": {},
   "outputs": [
    {
     "name": "stderr",
     "output_type": "stream",
     "text": [
      "/home/shawn/.local/lib/python3.10/site-packages/haiku/_src/data_structures.py:37: FutureWarning: jax.tree_structure is deprecated, and will be removed in a future release. Use jax.tree_util.tree_structure instead.\n",
      "  PyTreeDef = type(jax.tree_structure(None))\n"
     ]
    }
   ],
   "source": [
    "import haiku as hk\n",
    "import jax\n",
    "import jax.nn as jnn\n",
    "import jax.numpy as jnp\n",
    "import numpy as np\n",
    "from typing import List, Callable\n",
    "from pprint import pprint"
   ]
  },
  {
   "cell_type": "code",
   "execution_count": 84,
   "id": "9c9b1edd",
   "metadata": {},
   "outputs": [],
   "source": [
    "class MixtureOfExperts(hk.Module):\n",
    "    def __init__(self, num_experts, k, capacity, name=None):\n",
    "        super().__init__(name=name)\n",
    "        self._num_experts = num_experts\n",
    "        self._k = k\n",
    "        self._expert_idxs = jnp.arange(self._num_experts, dtype=np.int32)\n",
    "        self._capacity = capacity\n",
    "        \n",
    "    def route(self, x:jnp.ndarray):\n",
    "        logits = hk.Linear(self._num_experts)(x)\n",
    "        top_k_vals, top_k_idxs = jax.lax.top_k(logits, self._k)\n",
    "        top_k_gates = jax.nn.softmax(top_k_vals, axis=-1)\n",
    "        # buffer_idxs\n",
    "        # I x K x E: for each item, which of the top k is going to which expert,\n",
    "        #            value is the i-th item of each expert\n",
    "        expert_mask = top_k_idxs.transpose((1, 0)).flatten()[:, None] == self._expert_idxs\n",
    "        # K * I x E\n",
    "        buffer_idxs = jnp.cumsum(expert_mask, axis=0) * expert_mask - 1\n",
    "        # K * I x E\n",
    "        buffer_idxs = buffer_idxs.reshape(self._k, -1, self._num_experts)\n",
    "        # K x I x E\n",
    "        \n",
    "        # dispatch_idxs : E x I\n",
    "        dispatch_idxs = buffer_idxs.transpose((2, 0, 1)).max(axis=1)\n",
    "        # combine_idxs : I x K\n",
    "        combine_idxs = buffer_idxs.max(axis=-1).transpose(1, 0)\n",
    "        return top_k_gates, top_k_idxs, dispatch_idxs, combine_idxs\n",
    "    \n",
    "    def dispatch(self, dispatch_idxs:jnp.ndarray, x:jnp.ndarray) -> jnp.ndarray:\n",
    "        def expert_array(exp_buf_idxs):\n",
    "            zeros = jnp.zeros((self._capacity + 1, x.shape[-1]))\n",
    "            return zeros.at[exp_buf_idxs].set(x)[:-1]\n",
    "        data = jax.vmap(expert_array)(dispatch_idxs)\n",
    "        return data\n",
    "    \n",
    "    def combine(self, expert_idxs, buffer_idxs, data):\n",
    "        # expert_idxs: I x K\n",
    "        # buffer_idxs: I x K\n",
    "        # data: E x C x D\n",
    "        data = jnp.pad(data, ((0, 0), (0, 1), (0, 0)), 'constant')\n",
    "        return data.at[expert_idxs, buffer_idxs].get()\n",
    "    \n",
    "    def wrap(self, cls, *args, **kwargs):\n",
    "        functions = [cls(*args, **kwargs, name='expert_%d' % i)\n",
    "                     for i in range(self._num_experts)]\n",
    "        # nested transforms for all 8 + extract inits + applies\n",
    "        init_applies = jax.tree_util.tree_map(lambda fun: hk.transform(fun), functions)  # nested transform\n",
    "        inits = [x.init for x in init_applies]\n",
    "        apply = init_applies[0].apply \n",
    "        \n",
    "        def moe_fun(x):\n",
    "            # get lifted parameters for each expert\n",
    "            params = [hk.lift(init, name=\"inner\")(hk.next_rng_key(), x) for init in inits]\n",
    "            param_name = next(iter(params[0].keys()))\n",
    "            just_params = [next(iter(p.values())) for p in params]\n",
    "            stacked_params = jax.tree_util.tree_map(lambda *arrays: jnp.stack(arrays), *just_params)\n",
    "            def apply_fn(params, x):\n",
    "                return apply(params, hk.next_rng_key(), x)\n",
    "            return jax.vmap(apply_fn)({param_name: stacked_params}, x)\n",
    "        \n",
    "        return moe_fun\n",
    "\n",
    "            \n",
    "def moe(x):\n",
    "    num_experts = 4\n",
    "    moe = MixtureOfExperts(num_experts=num_experts, capacity=10, k=2)\n",
    "    top_k_gates, top_k_idxs, dispatch_idxs, combine_idxs = moe.route(x)\n",
    "    z = x * 0 + jnp.arange(x.shape[0])[:, None]\n",
    "    dispatched_x = moe.dispatch(dispatch_idxs, z)\n",
    "    dispatched_y = moe.wrap(hk.Linear, 3)(dispatched_x)\n",
    "    z_ = moe.combine(top_k_idxs, combine_idxs, dispatched_y)\n",
    "    return z_\n",
    "\n",
    "forward_moe = hk.transform(moe)"
   ]
  },
  {
   "cell_type": "code",
   "execution_count": 85,
   "id": "bca0d46a",
   "metadata": {
    "scrolled": false
   },
   "outputs": [
    {
     "name": "stdout",
     "output_type": "stream",
     "text": [
      "[[[  0.           0.           0.        ]\n",
      "  [  0.           0.           0.        ]]\n",
      "\n",
      " [[ -1.2483661    0.64470327   0.79231584]\n",
      "  [ -0.7740661   -0.01859003   0.2117182 ]]\n",
      "\n",
      " [[ -1.5481322   -0.03718007   0.4234364 ]\n",
      "  [  1.1794753    2.540656     0.15744385]]\n",
      "\n",
      " [[  1.7692131    3.8109846    0.2361658 ]\n",
      "  [ -3.741686     0.32243448  -1.4485036 ]]\n",
      "\n",
      " [[  2.3589506    5.081312     0.3148877 ]\n",
      "  [ -4.9934645    2.578813     3.1692634 ]]\n",
      "\n",
      " [[ -6.241831     3.223516     3.961579  ]\n",
      "  [ -6.2361436    0.53739077  -2.4141726 ]]\n",
      "\n",
      " [[  3.5384262    7.621969     0.4723316 ]\n",
      "  [ -7.490197     3.8682194    4.753895  ]]\n",
      "\n",
      " [[ -8.738564     4.512923     5.5462112 ]\n",
      "  [ -5.4184628   -0.13013017   1.4820267 ]]\n",
      "\n",
      " [[  4.717901    10.162624     0.6297754 ]\n",
      "  [ -9.977829     0.85982525  -3.8626761 ]]\n",
      "\n",
      " [[-11.235295     5.802329     7.130842  ]\n",
      "  [ -6.966595    -0.16731024   1.9054636 ]]\n",
      "\n",
      " [[-12.483662     6.447032     7.923158  ]\n",
      "  [ -7.740661    -0.18590021   2.1171815 ]]\n",
      "\n",
      " [[-13.732028     7.0917354    8.715474  ]\n",
      "  [-13.719517     1.1822598   -5.3111796 ]]\n",
      "\n",
      " [[ -9.288794    -0.22308016   2.5406175 ]\n",
      "  [  7.0768523   15.243938     0.9446632 ]]]\n"
     ]
    }
   ],
   "source": [
    "key = jax.random.PRNGKey(0)\n",
    "x = jax.random.normal(key, (13, 3))\n",
    "# print(x)\n",
    "rng_key = jax.random.PRNGKey(42)\n",
    "params = forward_moe.init(rng=rng_key, x=x)\n",
    "fn_apply = jax.jit(forward_moe.apply)\n",
    "out_buf = fn_apply(params=params, x=x, rng=rng_key)\n",
    "print(out_buf)"
   ]
  },
  {
   "cell_type": "code",
   "execution_count": 12,
   "id": "92758931",
   "metadata": {},
   "outputs": [
    {
     "name": "stdout",
     "output_type": "stream",
     "text": [
      "(13, 2, 4)\n",
      "(12, 2, 4)\n",
      "(11, 2, 4)\n",
      "(10, 2, 4)\n",
      "(13, 2, 4)\n",
      "(10, 2, 4)\n",
      "(200, 2, 4)\n",
      "(195, 2, 4)\n"
     ]
    }
   ],
   "source": [
    "out_buf = fn_apply(params=params, x=x, rng=rng_key)\n",
    "print(out_buf.shape)\n",
    "out_buf = fn_apply(params=params, x=x[:-1], rng=rng_key)\n",
    "print(out_buf.shape)\n",
    "out_buf = fn_apply(params=params, x=x[:-2], rng=rng_key)\n",
    "print(out_buf.shape)\n",
    "out_buf = fn_apply(params=params, x=x[:-3], rng=rng_key)\n",
    "print(out_buf.shape)\n",
    "out_buf = fn_apply(params=params, x=x, rng=rng_key)\n",
    "print(out_buf.shape)\n",
    "out_buf = fn_apply(params=params, x=x[:-3], rng=rng_key)\n",
    "print(out_buf.shape)\n",
    "x = jax.random.normal(key, (200, 20))\n",
    "out_buf = fn_apply(params=params, x=x, rng=rng_key)\n",
    "print(out_buf.shape)\n",
    "out_buf = fn_apply(params=params, x=x[:-5], rng=rng_key)\n",
    "print(out_buf.shape)"
   ]
  },
  {
   "cell_type": "code",
   "execution_count": null,
   "id": "5b820b8d",
   "metadata": {
    "scrolled": false
   },
   "outputs": [],
   "source": [
    "from pprint import pprint\n",
    "\n",
    "key = jax.random.PRNGKey(0)\n",
    "x = jax.random.normal(key, (2000, 20))\n",
    "# print(x)\n",
    "rng_key = jax.random.PRNGKey(42)\n",
    "params = forward_moe.init(rng=rng_key, x=x)\n",
    "fn_apply = jax.jit(forward_moe.apply)\n",
    "out_buf = fn_apply(params=params, x=x, rng=rng_key)\n",
    "print(out_buf.shape)\n",
    "out_buf = fn_apply(params=params, x=x, rng=rng_key)\n",
    "print(out_buf.shape)"
   ]
  }
 ],
 "metadata": {
  "kernelspec": {
   "display_name": "Python 3 (ipykernel)",
   "language": "python",
   "name": "python3"
  },
  "language_info": {
   "codemirror_mode": {
    "name": "ipython",
    "version": 3
   },
   "file_extension": ".py",
   "mimetype": "text/x-python",
   "name": "python",
   "nbconvert_exporter": "python",
   "pygments_lexer": "ipython3",
   "version": "3.10.5"
  }
 },
 "nbformat": 4,
 "nbformat_minor": 5
}
